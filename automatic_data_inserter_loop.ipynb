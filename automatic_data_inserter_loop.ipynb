{
 "cells": [
  {
   "cell_type": "code",
   "execution_count": 1,
   "metadata": {},
   "outputs": [
    {
     "name": "stdout",
     "output_type": "stream",
     "text": [
      "Everything loaded!!!\n"
     ]
    }
   ],
   "source": [
    "try:\n",
    "    import pandas as pd\n",
    "    import sqlite3\n",
    "    import os\n",
    "    import numpy as np\n",
    "    from matplotlib import pyplot as plt\n",
    "    from IPython.display import display\n",
    "    import os\n",
    "    #import pandas_profiling as pp\n",
    "\n",
    "\n",
    "    pd.set_option('max_row', None)\n",
    "    pd.set_option('max_column', None)\n",
    "    #trading.head(None)\n",
    "    print(\"Everything loaded!!!\")\n",
    "except Exception as e:\n",
    "    print(e)"
   ]
  },
  {
   "cell_type": "code",
   "execution_count": 2,
   "metadata": {},
   "outputs": [
    {
     "name": "stdout",
     "output_type": "stream",
     "text": [
      "Connection stablished!!!!!\n"
     ]
    }
   ],
   "source": [
    "# establishing directory and file definition\n",
    "\n",
    "\n",
    "\n",
    "try:\n",
    "    Directory = \"C:/Users/jorodriguez/Documents/programming_test\"\n",
    "    Database_name = \"traffic.sqlite\"\n",
    "\n",
    "    os.chdir(Directory)\n",
    "\n",
    "    conn = sqlite3.connect(Database_name)  ##insert any name you like followed by .db i.e. sample.db\n",
    "\n",
    "\n",
    "    print(\"Connection stablished!!!!!\")\n",
    "except Exception as e:\n",
    "    print(e)"
   ]
  },
  {
   "cell_type": "code",
   "execution_count": 4,
   "metadata": {},
   "outputs": [
    {
     "name": "stdout",
     "output_type": "stream",
     "text": [
      " Connection Set!\n"
     ]
    }
   ],
   "source": [
    "\n",
    "  \n",
    "# Creating a cursor object using the \n",
    "# cursor() method\n",
    "cursor = conn.cursor()\n",
    "\n",
    "print(\" Connection Set!\")"
   ]
  },
  {
   "cell_type": "code",
   "execution_count": 5,
   "metadata": {},
   "outputs": [
    {
     "name": "stdout",
     "output_type": "stream",
     "text": [
      "The table was created successfully!!!!\n"
     ]
    }
   ],
   "source": [
    "table =\"\"\"\n",
    "CREATE TABLE traffic\n",
    "                    (\n",
    "                    lights VARCHAR(255)\n",
    "               \n",
    "                    \n",
    "                    );\n",
    "\n",
    "\n",
    "\"\"\"\n",
    "cursor.execute(table)\n",
    "print(\"The table was created successfully!!!!\")"
   ]
  },
  {
   "cell_type": "code",
   "execution_count": 16,
   "metadata": {},
   "outputs": [
    {
     "name": "stdout",
     "output_type": "stream",
     "text": [
      "Data has been inserted!!!!\n",
      "Data has been inserted!!!!\n",
      "Data has been inserted!!!!\n",
      "Data has been inserted!!!!\n",
      "Data has been inserted!!!!\n",
      "Data has been inserted!!!!\n",
      "Data has been inserted!!!!\n",
      "Data has been inserted!!!!\n",
      "Data has been inserted!!!!\n",
      "Data has been inserted!!!!\n",
      "Data has been inserted!!!!\n",
      "Data has been inserted!!!!\n",
      "Data has been inserted!!!!\n",
      "Data has been inserted!!!!\n",
      "Data has been inserted!!!!\n",
      "Data has been inserted!!!!\n",
      "Data has been inserted!!!!\n",
      "Data has been inserted!!!!\n",
      "Data has been inserted!!!!\n",
      "Data has been inserted!!!!\n",
      "Data has been inserted!!!!\n",
      "Data has been inserted!!!!\n",
      "Data has been inserted!!!!\n",
      "Data has been inserted!!!!\n",
      "Data has been inserted!!!!\n",
      "Data has been inserted!!!!\n",
      "Data has been inserted!!!!\n",
      "Data has been inserted!!!!\n",
      "Data has been inserted!!!!\n",
      "Data has been inserted!!!!\n",
      "Data has been inserted!!!!\n",
      "Data has been inserted!!!!\n",
      "Data has been inserted!!!!\n",
      "Data has been inserted!!!!\n",
      "Data has been inserted!!!!\n",
      "Data has been inserted!!!!\n",
      "Data has been inserted!!!!\n",
      "Data has been inserted!!!!\n",
      "Data has been inserted!!!!\n",
      "Data has been inserted!!!!\n",
      "Data has been inserted!!!!\n",
      "Data has been inserted!!!!\n",
      "Data has been inserted!!!!\n",
      "Data has been inserted!!!!\n",
      "Data has been inserted!!!!\n",
      "Data has been inserted!!!!\n",
      "Data has been inserted!!!!\n",
      "Data has been inserted!!!!\n",
      "Data has been inserted!!!!\n",
      "Data has been inserted!!!!\n",
      "Data has been inserted!!!!\n",
      "Data has been inserted!!!!\n",
      "Data has been inserted!!!!\n",
      "Data has been inserted!!!!\n",
      "Data has been inserted!!!!\n",
      "Data has been inserted!!!!\n",
      "Data has been inserted!!!!\n",
      "Data has been inserted!!!!\n",
      "Data has been inserted!!!!\n",
      "Data has been inserted!!!!\n",
      "Data has been inserted!!!!\n",
      "Data has been inserted!!!!\n",
      "Data has been inserted!!!!\n",
      "Data has been inserted!!!!\n",
      "Data has been inserted!!!!\n",
      "Data has been inserted!!!!\n",
      "Data has been inserted!!!!\n",
      "Data has been inserted!!!!\n",
      "Data has been inserted!!!!\n",
      "Data has been inserted!!!!\n",
      "Data has been inserted!!!!\n",
      "Data has been inserted!!!!\n",
      "Data has been inserted!!!!\n",
      "Data has been inserted!!!!\n",
      "Data has been inserted!!!!\n",
      "Data has been inserted!!!!\n",
      "Data has been inserted!!!!\n",
      "Data has been inserted!!!!\n",
      "Data has been inserted!!!!\n",
      "Data has been inserted!!!!\n"
     ]
    },
    {
     "ename": "KeyboardInterrupt",
     "evalue": "",
     "output_type": "error",
     "traceback": [
      "\u001b[1;31m---------------------------------------------------------------------------\u001b[0m",
      "\u001b[1;31mKeyboardInterrupt\u001b[0m                         Traceback (most recent call last)",
      "\u001b[1;32m<ipython-input-16-334ef33f9db2>\u001b[0m in \u001b[0;36m<module>\u001b[1;34m\u001b[0m\n\u001b[0;32m     11\u001b[0m     \u001b[0mconn\u001b[0m\u001b[1;33m.\u001b[0m\u001b[0mcommit\u001b[0m\u001b[1;33m(\u001b[0m\u001b[1;33m)\u001b[0m\u001b[1;33m\u001b[0m\u001b[1;33m\u001b[0m\u001b[0m\n\u001b[0;32m     12\u001b[0m     \u001b[0mprint\u001b[0m\u001b[1;33m(\u001b[0m\u001b[1;34m\"Data has been inserted!!!!\"\u001b[0m\u001b[1;33m)\u001b[0m\u001b[1;33m\u001b[0m\u001b[1;33m\u001b[0m\u001b[0m\n\u001b[1;32m---> 13\u001b[1;33m     \u001b[0mtime\u001b[0m\u001b[1;33m.\u001b[0m\u001b[0msleep\u001b[0m\u001b[1;33m(\u001b[0m\u001b[0mc\u001b[0m\u001b[1;33m)\u001b[0m\u001b[1;33m\u001b[0m\u001b[1;33m\u001b[0m\u001b[0m\n\u001b[0m",
      "\u001b[1;31mKeyboardInterrupt\u001b[0m: "
     ]
    }
   ],
   "source": [
    "import time\n",
    "from itertools import cycle\n",
    "\n",
    "light = {(\"Green\",0.5),(\"Red\",0.5),(\"Yellow\",0.5)}\n",
    "\n",
    "colors = cycle(light)\n",
    "\n",
    "while True:\n",
    "    a,c = next(colors)\n",
    "    cursor.execute(f\"\"\"INSERT INTO traffic VALUES ('{a}')\"\"\")\n",
    "    conn.commit()\n",
    "    print(\"Data has been inserted!!!!\")\n",
    "    time.sleep(c)"
   ]
  },
  {
   "cell_type": "code",
   "execution_count": 17,
   "metadata": {},
   "outputs": [
    {
     "name": "stdout",
     "output_type": "stream",
     "text": [
      "Connection has been closed!!!\n"
     ]
    }
   ],
   "source": [
    "# Closing the connection\n",
    "conn.close()\n",
    "print(\"Connection has been closed!!!\")"
   ]
  }
 ],
 "metadata": {
  "kernelspec": {
   "display_name": "Python 3",
   "language": "python",
   "name": "python3"
  },
  "language_info": {
   "codemirror_mode": {
    "name": "ipython",
    "version": 3
   },
   "file_extension": ".py",
   "mimetype": "text/x-python",
   "name": "python",
   "nbconvert_exporter": "python",
   "pygments_lexer": "ipython3",
   "version": "3.7.9"
  }
 },
 "nbformat": 4,
 "nbformat_minor": 2
}
