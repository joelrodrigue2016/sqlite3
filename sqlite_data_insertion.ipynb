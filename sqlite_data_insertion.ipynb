{
 "cells": [
  {
   "cell_type": "markdown",
   "id": "e9ca3255",
   "metadata": {},
   "source": [
    "# SQLITE3 connection with python\n",
    "SQLite is a relational database management system contained in a C library. In contrast to many other database management systems, SQLite is not a client–server database engine. Rather, it is embedded into the end program. SQLite generally follows PostgreSQL syntax.\n",
    "\n",
    "Loading the neccesary libraries"
   ]
  },
  {
   "cell_type": "code",
   "execution_count": 4,
   "id": "c07a0acf",
   "metadata": {},
   "outputs": [
    {
     "name": "stdout",
     "output_type": "stream",
     "text": [
      "Everything loaded!!!\n"
     ]
    }
   ],
   "source": [
    "try:\n",
    "    import pandas as pd\n",
    "    import sqlite3\n",
    "    import os\n",
    "    import numpy as np\n",
    "    from matplotlib import pyplot as plt\n",
    "    from IPython.display import display\n",
    "    import os\n",
    "    #import pandas_profiling as pp\n",
    "\n",
    "\n",
    "    pd.set_option('max_row', None)\n",
    "    pd.set_option('max_column', None)\n",
    "    #trading.head(None)\n",
    "    os.chdir(\"C:/Users/admin/Documents/sqlite\")\n",
    "    print(\"Everything loaded!!!\")\n",
    "except:\n",
    "    print(\"Something went wrong!!!!\")"
   ]
  },
  {
   "cell_type": "markdown",
   "id": "b91e885a",
   "metadata": {},
   "source": [
    "### Stablishing conection"
   ]
  },
  {
   "cell_type": "code",
   "execution_count": 5,
   "id": "f0fbfc01",
   "metadata": {},
   "outputs": [
    {
     "name": "stdout",
     "output_type": "stream",
     "text": [
      " Connection Set!\n"
     ]
    }
   ],
   "source": [
    "# Connecting to sqlite\n",
    "conn = sqlite3.connect('test_db.db')\n",
    "\n",
    "  \n",
    "# Creating a cursor object using the \n",
    "# cursor() method\n",
    "cursor = conn.cursor()\n",
    "\n",
    "print(\" Connection Set!\")"
   ]
  },
  {
   "cell_type": "code",
   "execution_count": 6,
   "id": "cd5fb8b1",
   "metadata": {},
   "outputs": [
    {
     "data": {
      "text/plain": [
       "<sqlite3.Cursor at 0x20dd00aeab0>"
      ]
     },
     "execution_count": 6,
     "metadata": {},
     "output_type": "execute_result"
    }
   ],
   "source": [
    "# Creating table\n",
    "table =\"\"\"\n",
    "CREATE TABLE STUDENT\n",
    "                    (\n",
    "                    NAME VARCHAR(255), \n",
    "                    Last_name VARCHAR(255),\n",
    "                    AGE NUMERIC,\n",
    "                    COUNTRY VARCHAR(255)\n",
    "                    \n",
    "                    );\n",
    "\n",
    "\n",
    "\"\"\"\n",
    "cursor.execute(table)\n",
    "print(\"The table was created successfully!!!!\")"
   ]
  },
  {
   "cell_type": "code",
   "execution_count": 18,
   "id": "b1d485f4",
   "metadata": {},
   "outputs": [
    {
     "name": "stdout",
     "output_type": "stream",
     "text": [
      "Enter name:  John\n",
      "Enter Lastname: Somnes\n",
      "Enter age: 32\n",
      "Enter Country: United States\n",
      "Data has been inserted!!!!\n"
     ]
    }
   ],
   "source": [
    "NAME = input(\"Enter name:  \")\n",
    "Last_name =input(\"Enter Lastname: \")\n",
    "AGE =input(\"Enter age: \")\n",
    "COUNTRY  =input(\"Enter Country: \")\n",
    "\n",
    "\n",
    "\n",
    "\n",
    "\n",
    "\n",
    "cursor.execute(f\"\"\"INSERT INTO STUDENT VALUES ('{NAME}', '{Last_name}', '{AGE}','{COUNTRY}')\"\"\")\n",
    "# Commit your changes in the database    \n",
    "conn.commit()\n",
    "  \n",
    "print(\"Data has been inserted!!!!\")"
   ]
  },
  {
   "cell_type": "code",
   "execution_count": 19,
   "id": "8f2ff12b",
   "metadata": {},
   "outputs": [
    {
     "data": {
      "text/html": [
       "<div>\n",
       "<style scoped>\n",
       "    .dataframe tbody tr th:only-of-type {\n",
       "        vertical-align: middle;\n",
       "    }\n",
       "\n",
       "    .dataframe tbody tr th {\n",
       "        vertical-align: top;\n",
       "    }\n",
       "\n",
       "    .dataframe thead th {\n",
       "        text-align: right;\n",
       "    }\n",
       "</style>\n",
       "<table border=\"1\" class=\"dataframe\">\n",
       "  <thead>\n",
       "    <tr style=\"text-align: right;\">\n",
       "      <th></th>\n",
       "      <th>NAME</th>\n",
       "      <th>Last_name</th>\n",
       "      <th>AGE</th>\n",
       "      <th>COUNTRY</th>\n",
       "    </tr>\n",
       "  </thead>\n",
       "  <tbody>\n",
       "    <tr>\n",
       "      <th>0</th>\n",
       "      <td>Joel</td>\n",
       "      <td>Rodriguez</td>\n",
       "      <td>25</td>\n",
       "      <td>United States</td>\n",
       "    </tr>\n",
       "    <tr>\n",
       "      <th>1</th>\n",
       "      <td>Stephanie</td>\n",
       "      <td>Rodriguez</td>\n",
       "      <td>28</td>\n",
       "      <td>United States</td>\n",
       "    </tr>\n",
       "    <tr>\n",
       "      <th>2</th>\n",
       "      <td>John</td>\n",
       "      <td>Somnes</td>\n",
       "      <td>32</td>\n",
       "      <td>United States</td>\n",
       "    </tr>\n",
       "  </tbody>\n",
       "</table>\n",
       "</div>"
      ],
      "text/plain": [
       "        NAME  Last_name  AGE        COUNTRY\n",
       "0       Joel  Rodriguez   25  United States\n",
       "1  Stephanie  Rodriguez   28  United States\n",
       "2       John     Somnes   32  United States"
      ]
     },
     "execution_count": 19,
     "metadata": {},
     "output_type": "execute_result"
    }
   ],
   "source": [
    "df = pd.read_sql_query(\"\"\"\n",
    "\n",
    "--------Insert query below:\n",
    "---(sQLITE3 IS CASE SENSItiVE)\n",
    "\n",
    "\n",
    "\n",
    "SELECT * FROM STUDENT\n",
    "--where first_name='PENELOPE'\n",
    "--ORDER BY LAST_UPDATE;\n",
    "\n",
    "\n",
    "\n",
    "\n",
    "\n",
    "\n",
    "\n",
    "\n",
    "\n",
    "\"\"\", conn)\n",
    "pd.DataFrame(df)"
   ]
  },
  {
   "cell_type": "code",
   "execution_count": 20,
   "id": "0a4db838",
   "metadata": {},
   "outputs": [
    {
     "data": {
      "text/html": [
       "<div>\n",
       "<style scoped>\n",
       "    .dataframe tbody tr th:only-of-type {\n",
       "        vertical-align: middle;\n",
       "    }\n",
       "\n",
       "    .dataframe tbody tr th {\n",
       "        vertical-align: top;\n",
       "    }\n",
       "\n",
       "    .dataframe thead th {\n",
       "        text-align: right;\n",
       "    }\n",
       "</style>\n",
       "<table border=\"1\" class=\"dataframe\">\n",
       "  <thead>\n",
       "    <tr style=\"text-align: right;\">\n",
       "      <th></th>\n",
       "      <th>AGE</th>\n",
       "    </tr>\n",
       "  </thead>\n",
       "  <tbody>\n",
       "    <tr>\n",
       "      <th>count</th>\n",
       "      <td>3.000000</td>\n",
       "    </tr>\n",
       "    <tr>\n",
       "      <th>mean</th>\n",
       "      <td>28.333333</td>\n",
       "    </tr>\n",
       "    <tr>\n",
       "      <th>std</th>\n",
       "      <td>3.511885</td>\n",
       "    </tr>\n",
       "    <tr>\n",
       "      <th>min</th>\n",
       "      <td>25.000000</td>\n",
       "    </tr>\n",
       "    <tr>\n",
       "      <th>25%</th>\n",
       "      <td>26.500000</td>\n",
       "    </tr>\n",
       "    <tr>\n",
       "      <th>50%</th>\n",
       "      <td>28.000000</td>\n",
       "    </tr>\n",
       "    <tr>\n",
       "      <th>75%</th>\n",
       "      <td>30.000000</td>\n",
       "    </tr>\n",
       "    <tr>\n",
       "      <th>max</th>\n",
       "      <td>32.000000</td>\n",
       "    </tr>\n",
       "  </tbody>\n",
       "</table>\n",
       "</div>"
      ],
      "text/plain": [
       "             AGE\n",
       "count   3.000000\n",
       "mean   28.333333\n",
       "std     3.511885\n",
       "min    25.000000\n",
       "25%    26.500000\n",
       "50%    28.000000\n",
       "75%    30.000000\n",
       "max    32.000000"
      ]
     },
     "execution_count": 20,
     "metadata": {},
     "output_type": "execute_result"
    }
   ],
   "source": [
    "df.describe()"
   ]
  },
  {
   "cell_type": "markdown",
   "id": "8f8ef814",
   "metadata": {},
   "source": [
    "## Convert results into json format"
   ]
  },
  {
   "cell_type": "code",
   "execution_count": 21,
   "id": "f53854ee",
   "metadata": {
    "scrolled": true
   },
   "outputs": [
    {
     "name": "stdout",
     "output_type": "stream",
     "text": [
      "{\"schema\":{\"fields\":[{\"name\":\"index\",\"type\":\"integer\"},{\"name\":\"NAME\",\"type\":\"string\"},{\"name\":\"Last_name\",\"type\":\"string\"},{\"name\":\"AGE\",\"type\":\"integer\"},{\"name\":\"COUNTRY\",\"type\":\"string\"}],\"primaryKey\":[\"index\"],\"pandas_version\":\"0.20.0\"},\"data\":[{\"index\":0,\"NAME\":\"Joel\",\"Last_name\":\"Rodriguez\",\"AGE\":25,\"COUNTRY\":\"United States\"},{\"index\":1,\"NAME\":\"Stephanie\",\"Last_name\":\"Rodriguez\",\"AGE\":28,\"COUNTRY\":\"United States\"},{\"index\":2,\"NAME\":\"John\",\"Last_name\":\"Somnes\",\"AGE\":32,\"COUNTRY\":\"United States\"}]}\n"
     ]
    }
   ],
   "source": [
    "### table, records,split,index,columns,values\n",
    "print(df.to_json(orient ='table'))"
   ]
  },
  {
   "cell_type": "code",
   "execution_count": 27,
   "id": "ce9ff4bd",
   "metadata": {},
   "outputs": [],
   "source": [
    "df.to_json ('test.json')\n",
    "df.to_csv('test.csv')"
   ]
  },
  {
   "cell_type": "markdown",
   "id": "0e99a37c",
   "metadata": {},
   "source": [
    "# Closing connection\n",
    "Make sure you close your connection. If we don't close the connection, it will lead to connection memory leakage. Unless/until application server/web server is shut down, connection will remain activate even though the user logs out.\n",
    "\n",
    "There are additional reasons. Suppose database server has 10 connections available and 10 clients request for the connection. If the database sever grants all of them, and after their usage they are not closed, the database server would not be able to provide a connections for another request. For that reason we need to close them - it is mandatory.\n",
    "\n",
    "Furthermore, it might lead to some mischievous activities regarding the integrity of the database. https://stackoverflow.com/questions/25864235/why-we-should-close-the-connection-in-jdbc-if-we-dont-do-it-what-will-happen"
   ]
  },
  {
   "cell_type": "code",
   "execution_count": 23,
   "id": "4d6883ce",
   "metadata": {},
   "outputs": [
    {
     "name": "stdout",
     "output_type": "stream",
     "text": [
      "Connection has been closed!!!\n"
     ]
    }
   ],
   "source": [
    "# Closing the connection\n",
    "conn.close()\n",
    "print(\"Connection has been closed!!!\")"
   ]
  },
  {
   "cell_type": "code",
   "execution_count": null,
   "id": "cefc7e10",
   "metadata": {},
   "outputs": [],
   "source": []
  }
 ],
 "metadata": {
  "kernelspec": {
   "display_name": "Python 3 (ipykernel)",
   "language": "python",
   "name": "python3"
  },
  "language_info": {
   "codemirror_mode": {
    "name": "ipython",
    "version": 3
   },
   "file_extension": ".py",
   "mimetype": "text/x-python",
   "name": "python",
   "nbconvert_exporter": "python",
   "pygments_lexer": "ipython3",
   "version": "3.8.12"
  }
 },
 "nbformat": 4,
 "nbformat_minor": 5
}
