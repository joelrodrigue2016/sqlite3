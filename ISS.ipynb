{
 "cells": [
  {
   "cell_type": "code",
   "execution_count": 203,
   "metadata": {},
   "outputs": [
    {
     "name": "stdout",
     "output_type": "stream",
     "text": [
      "Everything loaded!!!\n"
     ]
    }
   ],
   "source": [
    "try:\n",
    "    import requests\n",
    "    import pandas as pd\n",
    "    import sqlite3\n",
    "    import os\n",
    "    import numpy as np\n",
    "    from datetime import datetime\n",
    "\n",
    "\n",
    "    #pd.set_option('max_row', None)\n",
    "    #pd.set_option('max_column', None)\n",
    "    #trading.head(None)\n",
    "\n",
    "    print(\"Everything loaded!!!\")\n",
    "except Exception as e:\n",
    "    print(e)"
   ]
  },
  {
   "cell_type": "code",
   "execution_count": 204,
   "metadata": {},
   "outputs": [
    {
     "name": "stdout",
     "output_type": "stream",
     "text": [
      "Connection stablished!!!!!\n"
     ]
    }
   ],
   "source": [
    "try:\n",
    "    Directory = \"C:/Users/jorodriguez/Documents/programming_test\"\n",
    "    Database_name = \"ISS2.sqlite\"\n",
    "\n",
    "    os.chdir(Directory)\n",
    "\n",
    "    conn = sqlite3.connect(Database_name)  ##insert any name you like followed by .db i.e. sample.db\n",
    "\n",
    "\n",
    "    print(\"Connection stablished!!!!!\")\n",
    "except Exception as e:\n",
    "    print(e)"
   ]
  },
  {
   "cell_type": "code",
   "execution_count": 190,
   "metadata": {},
   "outputs": [
    {
     "ename": "OperationalError",
     "evalue": "table ISS_tracker already exists",
     "output_type": "error",
     "traceback": [
      "\u001b[1;31m---------------------------------------------------------------------------\u001b[0m",
      "\u001b[1;31mOperationalError\u001b[0m                          Traceback (most recent call last)",
      "\u001b[1;32m~\\AppData\\Local\\Temp\\ipykernel_23684\\3377752412.py\u001b[0m in \u001b[0;36m<cell line: 8>\u001b[1;34m()\u001b[0m\n\u001b[0;32m      6\u001b[0m );\n\u001b[0;32m      7\u001b[0m \"\"\"\n\u001b[1;32m----> 8\u001b[1;33m \u001b[0mconn\u001b[0m\u001b[1;33m.\u001b[0m\u001b[0mexecute\u001b[0m\u001b[1;33m(\u001b[0m\u001b[0mquery\u001b[0m\u001b[1;33m)\u001b[0m\u001b[1;33m\u001b[0m\u001b[1;33m\u001b[0m\u001b[0m\n\u001b[0m\u001b[0;32m      9\u001b[0m \u001b[0mprint\u001b[0m\u001b[1;33m(\u001b[0m\u001b[1;34m\"Your record was executed!\"\u001b[0m\u001b[1;33m)\u001b[0m\u001b[1;33m\u001b[0m\u001b[1;33m\u001b[0m\u001b[0m\n",
      "\u001b[1;31mOperationalError\u001b[0m: table ISS_tracker already exists"
     ]
    }
   ],
   "source": [
    "query= \"\"\"\n",
    "CREATE TABLE ISS_tracker (\n",
    "\t\n",
    "\tlatitude NUMERIC,\n",
    "\tlongitude NUMERIC\n",
    ");\n",
    "\"\"\"\n",
    "conn.execute(query)\n",
    "print(\"Your record was executed!\")"
   ]
  },
  {
   "cell_type": "code",
   "execution_count": null,
   "metadata": {},
   "outputs": [
    {
     "data": {
      "text/plain": [
       "[]"
      ]
     },
     "execution_count": 24,
     "metadata": {},
     "output_type": "execute_result"
    }
   ],
   "source": []
  },
  {
   "cell_type": "code",
   "execution_count": 216,
   "metadata": {},
   "outputs": [
    {
     "name": "stdout",
     "output_type": "stream",
     "text": [
      "Data has been inserted!!!!\n"
     ]
    }
   ],
   "source": [
    "r = requests.get(url='http://api.open-notify.org/iss-now.json')\n",
    "people= requests.get(url=\"http://api.open-notify.org/astros.json\")\n",
    "a=r.json()\n",
    "b=people.json()\n",
    "message = a['message']\n",
    "iss_position=a['iss_position']\n",
    "timestamps=a['timestamp']\n",
    "\n",
    "\n",
    "lat=float(list(iss_position.values())[0])\n",
    "lon=float(list(iss_position.values())[1])\n",
    "\n",
    "o=list(b[\"people\"])\n",
    "\n",
    "\n",
    "names=[]\n",
    "for i in range(7):\n",
    "    names.append(o[i][\"name\"])\n",
    "    \n",
    "\n",
    "dt_object = datetime.fromtimestamp(timestamps)\n",
    "conn.execute(f\"\"\"INSERT INTO ISS_tracker VALUES('{lat}', '{lon}')\"\"\")\n",
    "# Commit your changes in the database    \n",
    "conn.commit()\n",
    "  \n",
    "print(\"Data has been inserted!!!!\")"
   ]
  },
  {
   "cell_type": "code",
   "execution_count": 209,
   "metadata": {},
   "outputs": [
    {
     "data": {
      "text/plain": [
       "'w={\"Message\":message,\"Latitude\":lat,\"Longitude\":lon,\"Time\":dt_object,\"people\":names}\\npd.DataFrame(pd.Series(w)).T  '"
      ]
     },
     "execution_count": 209,
     "metadata": {},
     "output_type": "execute_result"
    }
   ],
   "source": [
    "\"\"\"w={\"Message\":message,\"Latitude\":lat,\"Longitude\":lon,\"Time\":dt_object,\"people\":names}\n",
    "pd.DataFrame(pd.Series(w)).T  \"\"\""
   ]
  },
  {
   "cell_type": "markdown",
   "metadata": {},
   "source": [
    "\"\"\"message = input(\"enter data: \")\n",
    "lat= input(\"enter data: \")\n",
    "lon= input(\"enter data: \")\n",
    "names= input(\"enter data: \")\n",
    "dt_object= input(\"enter data: \")\"\"\""
   ]
  },
  {
   "cell_type": "code",
   "execution_count": 217,
   "metadata": {},
   "outputs": [
    {
     "data": {
      "text/plain": [
       "[(31.1027, -18.6304),\n",
       " (31.1027, -18.6304),\n",
       " (31.1027, -18.6304),\n",
       " (31.1027, -18.6304),\n",
       " (31.1027, -18.6304),\n",
       " (31.1027, -18.6304),\n",
       " (31.1027, -18.6304),\n",
       " (31.1027, -18.6304),\n",
       " (31.1027, -18.6304),\n",
       " (31.1027, -18.6304),\n",
       " (31.1027, -18.6304),\n",
       " (31.1027, -18.6304),\n",
       " (31.1027, -18.6304),\n",
       " (31.1027, -18.6304),\n",
       " (31.1027, -18.6304),\n",
       " (12.5693, -1.9029),\n",
       " (-6.8776, 12.1184),\n",
       " (-8.8204, 13.5327),\n",
       " (-11.4086, 15.4512),\n",
       " (-12.7095, 16.434),\n",
       " (-13.0839, 16.7196),\n",
       " (-13.3333, 16.9105),\n",
       " (-13.6324, 17.1401)]"
      ]
     },
     "execution_count": 217,
     "metadata": {},
     "output_type": "execute_result"
    }
   ],
   "source": [
    "res = conn.execute(\"SELECT * FROM ISS_tracker \")\n",
    "res.fetchall()"
   ]
  },
  {
   "cell_type": "code",
   "execution_count": null,
   "metadata": {},
   "outputs": [
    {
     "name": "stdout",
     "output_type": "stream",
     "text": [
      "Connection has been closed!!!\n"
     ]
    }
   ],
   "source": [
    "# Closing the connection\n",
    "conn.close()\n",
    "print(\"Connection has been closed!!!\")"
   ]
  }
 ],
 "metadata": {
  "kernelspec": {
   "display_name": "Python 3",
   "language": "python",
   "name": "python3"
  },
  "language_info": {
   "codemirror_mode": {
    "name": "ipython",
    "version": 3
   },
   "file_extension": ".py",
   "mimetype": "text/x-python",
   "name": "python",
   "nbconvert_exporter": "python",
   "pygments_lexer": "ipython3",
   "version": "3.9.16"
  }
 },
 "nbformat": 4,
 "nbformat_minor": 2
}
